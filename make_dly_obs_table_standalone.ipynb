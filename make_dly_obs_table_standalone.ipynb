{
 "cells": [
  {
   "cell_type": "code",
   "execution_count": 87,
   "metadata": {
    "scrolled": true
   },
   "outputs": [],
   "source": [
    "%matplotlib inline\n",
    "import os\n",
    "import sys\n",
    "import pandas as pd\n",
    "import numpy as np\n",
    "import sqlite3\n",
    "import urllib"
   ]
  },
  {
   "cell_type": "markdown",
   "metadata": {},
   "source": [
    "To download the data file to your local directory, run the command below. The file is ~1Gb, therefore it might take some time. \n",
    "!!!! You just have to run this command once!!!"
   ]
  },
  {
   "cell_type": "code",
   "execution_count": null,
   "metadata": {},
   "outputs": [],
   "source": [
    "db_file = urllib.urlretrieve (\"https://osf.io/mr7jx/?action=download\", \"hampt_rd_data.sqlite\")"
   ]
  },
  {
   "cell_type": "code",
   "execution_count": null,
   "metadata": {},
   "outputs": [],
   "source": [
    "db_filepath = (\"hampt_rd_data.sqlite\")"
   ]
  },
  {
   "cell_type": "code",
   "execution_count": 71,
   "metadata": {},
   "outputs": [],
   "source": [
    "def get_db_table_as_df(name, sql=\"\"\"SELECT * FROM {};\"\"\", date_col=None, dbfilename=db_filepath):\n",
    "    con = sqlite3.connect(dbfilename)\n",
    "    sql = sql.format(name)\n",
    "    if name == 'datavalues':\n",
    "        date_col = 'Datetime'\n",
    "    df = pd.read_sql(sql, con, parse_dates=date_col)\n",
    "    if name == 'datavalues':\n",
    "        df = make_date_index(df, 'Datetime')\n",
    "    return df"
   ]
  },
  {
   "cell_type": "code",
   "execution_count": 72,
   "metadata": {},
   "outputs": [],
   "source": [
    "def get_id(typ, data):\n",
    "    \"\"\"\n",
    "    gets either the siteid or variableid from the db\n",
    "    :param typ: String. Either \"Site\" or \"Variable\"\n",
    "    :param data: Dict. the site or variable data\n",
    "    :return: int. id of site or variable\n",
    "    \"\"\"\n",
    "    data_df = pd.DataFrame(data, index=[0])\n",
    "    code_name = '{}Code'.format(typ)\n",
    "    table_name = '{}s'.format(typ.lower())\n",
    "    id_name = '{}ID'.format(typ)\n",
    "    code = data[code_name]\n",
    "    check_by = [code_name]\n",
    "    table = get_db_table_as_df(table_name)\n",
    "    id_row = table[table[code_name] == code]\n",
    "    id_num = id_row[id_name].values[0]\n",
    "    return id_num"
   ]
  },
  {
   "cell_type": "code",
   "execution_count": 73,
   "metadata": {},
   "outputs": [],
   "source": [
    "def make_date_index(df, field, fmt=None):\n",
    "    df.loc[:, field] = pd.to_datetime(df.loc[:, field], format=fmt)\n",
    "    df.set_index(field, drop=True, inplace=True)\n",
    "    return df"
   ]
  },
  {
   "cell_type": "code",
   "execution_count": 74,
   "metadata": {},
   "outputs": [],
   "source": [
    "def get_table_for_variable_code(variable_code, site_id=None, start_date=None, end_date=None):\n",
    "    var_id = get_id('Variable', {'VariableCode': variable_code})\n",
    "    table_name = 'datavalues'\n",
    "    sql = \"\"\"SELECT * FROM {} WHERE VariableID={};\"\"\".format(table_name, var_id)\n",
    "    if start_date or end_date:\n",
    "        if not start_date:\n",
    "            start_date = '1900-01-01'\n",
    "        elif not end_date:\n",
    "            end_date = '2100-01-01'\n",
    "        sql = \"\"\"SELECT * FROM {} WHERE VariableID={} AND Datetime BETWEEN '{}' AND '{}';\"\"\".format(\n",
    "            table_name,\n",
    "            var_id,\n",
    "            start_date,\n",
    "            end_date\n",
    "        )\n",
    "\n",
    "    df = get_db_table_as_df(table_name, sql=sql)\n",
    "    df = df.sort_index()\n",
    "    if site_id:\n",
    "        df = df[df['SiteID'] == site_id]\n",
    "    return df"
   ]
  },
  {
   "cell_type": "code",
   "execution_count": 75,
   "metadata": {},
   "outputs": [],
   "source": [
    "def round_down_near_24(datetimes): # round down the times near midnight so the tide levels stay on the correct day\n",
    "    close_time_idx = datetimes.indexer_between_time('23:29', '23:59')\n",
    "    adjusted_times = datetimes[close_time_idx] - pd.Timedelta(minutes=15)\n",
    "    dt = pd.Series(datetimes)\n",
    "    dt[close_time_idx] = adjusted_times\n",
    "    dt = pd.DatetimeIndex(dt)\n",
    "    return dt"
   ]
  },
  {
   "cell_type": "code",
   "execution_count": 76,
   "metadata": {},
   "outputs": [],
   "source": [
    "def cln_n_rnd_times(df):\n",
    "    for i in range(df.shape[1]):\n",
    "        datetimes = df.iloc[:, i]\n",
    "        times = pd.DatetimeIndex(datetimes)\n",
    "        rnd_dn = round_down_near_24(times)\n",
    "        df.iloc[:, i] = rnd_dn\n",
    "    return df"
   ]
  },
  {
   "cell_type": "code",
   "execution_count": 77,
   "metadata": {},
   "outputs": [],
   "source": [
    "def pivot_dv_df(df):\n",
    "    return df.pivot(columns='SiteID', values='Value')"
   ]
  },
  {
   "cell_type": "code",
   "execution_count": 78,
   "metadata": {},
   "outputs": [],
   "source": [
    "def rename_cols(df, var_abbrev):\n",
    "    if var_abbrev != \"\":\n",
    "        new_df = df.copy()\n",
    "        cols = df.columns.tolist()\n",
    "        new_cols = ['{}-{}'.format(var_abbrev, c) for c in cols]\n",
    "        new_df.columns = new_cols\n",
    "        return new_df\n",
    "    else:\n",
    "        return df"
   ]
  },
  {
   "cell_type": "code",
   "execution_count": 79,
   "metadata": {},
   "outputs": [],
   "source": [
    "def filter_max_rain_time_dfs(rain_daily_df, time_df):\n",
    "    timemx_filt = pd.DataFrame(np.where(rain_daily_df>0, time_df, np.datetime64('NaT')))\n",
    "    timemx_filt.columns = time_df.columns\n",
    "    timemx_filt.index = time_df.index\n",
    "    return timemx_filt"
   ]
  },
  {
   "cell_type": "code",
   "execution_count": 80,
   "metadata": {},
   "outputs": [],
   "source": [
    "def tide_when_rain_max(rn_mx_time_df):\n",
    "    td_df = get_table_for_variable_code('six_min_tide')\n",
    "    try:\n",
    "        td_df = pivot_dv_df(td_df)\n",
    "    except:\n",
    "        td_df = remove_duplicates(td_df)\n",
    "        td_df = pivot_dv_df(td_df)\n",
    "    td_df = td_df.resample('15T').mean()\n",
    "    rn_mx_time_rnd = cln_n_rnd_times(rn_mx_time_df)\n",
    "    l = []\n",
    "    for c in rn_mx_time_rnd.columns:\n",
    "        times = rn_mx_time_rnd.loc[:, c]\n",
    "        tides = td_df.loc[times].resample('D').max()\n",
    "        rain_var = c.split('_')[0]\n",
    "        rain_site = c.split('-')[-1]\n",
    "        new_cols = ['{}-{}_td-{}'.format(rain_var, rain_site, col) for col in tides.columns]\n",
    "        tides.columns = new_cols\n",
    "        l.append(tides)\n",
    "    new_df = pd.concat(l, axis=1)\n",
    "    new_df.sort_index(inplace=True)\n",
    "    return new_df"
   ]
  },
  {
   "cell_type": "code",
   "execution_count": 81,
   "metadata": {},
   "outputs": [],
   "source": [
    "def remove_duplicates(df):\n",
    "    siteids = df['SiteID'].unique()\n",
    "    df.reset_index(inplace=True)\n",
    "    print df.shape\n",
    "    non_duplicated = list()\n",
    "    for site in siteids:\n",
    "        df_site = df[df['SiteID'] == site]\n",
    "        df_site_vals = df_site['Datetime']\n",
    "        df_no_dups = ~df_site_vals.duplicated()\n",
    "        df_no_dups_idx = df_site[df_no_dups].index\n",
    "        non_duplicated.extend(df_no_dups_idx.tolist())\n",
    "    df = df.loc[non_duplicated]\n",
    "    df.set_index('Datetime', drop=True, inplace=True)\n",
    "    print df.shape\n",
    "    return df"
   ]
  },
  {
   "cell_type": "code",
   "execution_count": 82,
   "metadata": {},
   "outputs": [],
   "source": [
    "def daily_pivot_table(var_code, agg_function, abbreviation):    \n",
    "    df = get_table_for_variable_code(var_code)\n",
    "    try:\n",
    "        dfp = pivot_dv_df(df)\n",
    "    except ValueError:\n",
    "        df = remove_duplicates(df)\n",
    "        dfp = pivot_dv_df(df)\n",
    "    dfd = dfp.resample('D')\n",
    "    aggrd = dfd.agg(agg_function)\n",
    "    rnmed = rename_cols(aggrd, abbreviation)\n",
    "    return rnmed"
   ]
  },
  {
   "cell_type": "markdown",
   "metadata": {},
   "source": [
    "#  Rainfall"
   ]
  },
  {
   "cell_type": "code",
   "execution_count": 83,
   "metadata": {},
   "outputs": [],
   "source": [
    "# get rainfall data at 15 min interval\n",
    "rain_df = get_table_for_variable_code('rainfall')"
   ]
  },
  {
   "cell_type": "markdown",
   "metadata": {},
   "source": [
    "## Daily Rainfall"
   ]
  },
  {
   "cell_type": "code",
   "execution_count": 84,
   "metadata": {},
   "outputs": [
    {
     "data": {
      "text/html": [
       "<div>\n",
       "<style scoped>\n",
       "    .dataframe tbody tr th:only-of-type {\n",
       "        vertical-align: middle;\n",
       "    }\n",
       "\n",
       "    .dataframe tbody tr th {\n",
       "        vertical-align: top;\n",
       "    }\n",
       "\n",
       "    .dataframe thead th {\n",
       "        text-align: right;\n",
       "    }\n",
       "</style>\n",
       "<table border=\"1\" class=\"dataframe\">\n",
       "  <thead>\n",
       "    <tr style=\"text-align: right;\">\n",
       "      <th></th>\n",
       "      <th>rd-19</th>\n",
       "      <th>rd-20</th>\n",
       "      <th>rd-1</th>\n",
       "      <th>rd-2</th>\n",
       "      <th>rd-7</th>\n",
       "      <th>rd-11</th>\n",
       "      <th>rd-12</th>\n",
       "      <th>rd-13</th>\n",
       "      <th>rd-14</th>\n",
       "      <th>rd-15</th>\n",
       "      <th>rd-16</th>\n",
       "      <th>rd-21</th>\n",
       "    </tr>\n",
       "    <tr>\n",
       "      <th>Datetime</th>\n",
       "      <th></th>\n",
       "      <th></th>\n",
       "      <th></th>\n",
       "      <th></th>\n",
       "      <th></th>\n",
       "      <th></th>\n",
       "      <th></th>\n",
       "      <th></th>\n",
       "      <th></th>\n",
       "      <th></th>\n",
       "      <th></th>\n",
       "      <th></th>\n",
       "    </tr>\n",
       "  </thead>\n",
       "  <tbody>\n",
       "    <tr>\n",
       "      <th>2010-01-01</th>\n",
       "      <td>0.01</td>\n",
       "      <td>0.01</td>\n",
       "      <td>0.0</td>\n",
       "      <td>0.0</td>\n",
       "      <td>0.05</td>\n",
       "      <td>0.03</td>\n",
       "      <td>0.06</td>\n",
       "      <td>0.02</td>\n",
       "      <td>0.01</td>\n",
       "      <td>0.01</td>\n",
       "      <td>0.02</td>\n",
       "      <td>0.03</td>\n",
       "    </tr>\n",
       "    <tr>\n",
       "      <th>2010-01-02</th>\n",
       "      <td>0.00</td>\n",
       "      <td>0.00</td>\n",
       "      <td>0.0</td>\n",
       "      <td>0.0</td>\n",
       "      <td>0.00</td>\n",
       "      <td>0.01</td>\n",
       "      <td>0.00</td>\n",
       "      <td>0.00</td>\n",
       "      <td>0.00</td>\n",
       "      <td>0.00</td>\n",
       "      <td>0.00</td>\n",
       "      <td>0.00</td>\n",
       "    </tr>\n",
       "    <tr>\n",
       "      <th>2010-01-03</th>\n",
       "      <td>0.00</td>\n",
       "      <td>0.00</td>\n",
       "      <td>0.0</td>\n",
       "      <td>0.0</td>\n",
       "      <td>0.00</td>\n",
       "      <td>0.00</td>\n",
       "      <td>0.00</td>\n",
       "      <td>0.02</td>\n",
       "      <td>0.00</td>\n",
       "      <td>0.00</td>\n",
       "      <td>0.00</td>\n",
       "      <td>0.00</td>\n",
       "    </tr>\n",
       "    <tr>\n",
       "      <th>2010-01-04</th>\n",
       "      <td>0.00</td>\n",
       "      <td>0.00</td>\n",
       "      <td>0.0</td>\n",
       "      <td>0.0</td>\n",
       "      <td>0.10</td>\n",
       "      <td>0.10</td>\n",
       "      <td>0.00</td>\n",
       "      <td>0.11</td>\n",
       "      <td>0.00</td>\n",
       "      <td>0.00</td>\n",
       "      <td>0.00</td>\n",
       "      <td>0.00</td>\n",
       "    </tr>\n",
       "    <tr>\n",
       "      <th>2010-01-05</th>\n",
       "      <td>0.00</td>\n",
       "      <td>0.00</td>\n",
       "      <td>0.0</td>\n",
       "      <td>0.0</td>\n",
       "      <td>0.00</td>\n",
       "      <td>0.00</td>\n",
       "      <td>0.00</td>\n",
       "      <td>0.00</td>\n",
       "      <td>0.12</td>\n",
       "      <td>0.00</td>\n",
       "      <td>0.00</td>\n",
       "      <td>0.11</td>\n",
       "    </tr>\n",
       "  </tbody>\n",
       "</table>\n",
       "</div>"
      ],
      "text/plain": [
       "            rd-19  rd-20  rd-1  rd-2  rd-7  rd-11  rd-12  rd-13  rd-14  rd-15  \\\n",
       "Datetime                                                                        \n",
       "2010-01-01   0.01   0.01   0.0   0.0  0.05   0.03   0.06   0.02   0.01   0.01   \n",
       "2010-01-02   0.00   0.00   0.0   0.0  0.00   0.01   0.00   0.00   0.00   0.00   \n",
       "2010-01-03   0.00   0.00   0.0   0.0  0.00   0.00   0.00   0.02   0.00   0.00   \n",
       "2010-01-04   0.00   0.00   0.0   0.0  0.10   0.10   0.00   0.11   0.00   0.00   \n",
       "2010-01-05   0.00   0.00   0.0   0.0  0.00   0.00   0.00   0.00   0.12   0.00   \n",
       "\n",
       "            rd-16  rd-21  \n",
       "Datetime                  \n",
       "2010-01-01   0.02   0.03  \n",
       "2010-01-02   0.00   0.00  \n",
       "2010-01-03   0.00   0.00  \n",
       "2010-01-04   0.00   0.00  \n",
       "2010-01-05   0.00   0.11  "
      ]
     },
     "execution_count": 84,
     "metadata": {},
     "output_type": "execute_result"
    }
   ],
   "source": [
    "rain_daily15 = daily_pivot_table('rainfall', np.sum, '')\n",
    "rain_daily = daily_pivot_table('daily_rainfall', np.sum, '')\n",
    "rain_daily_comb_no_name = pd.concat([rain_daily, rain_daily15], axis=1)\n",
    "rain_daily_comb_named = rename_cols(rain_daily_comb_no_name, 'rd')\n",
    "rain_daily_comb_named.head()"
   ]
  },
  {
   "cell_type": "code",
   "execution_count": 85,
   "metadata": {},
   "outputs": [
    {
     "data": {
      "text/html": [
       "<div>\n",
       "<style scoped>\n",
       "    .dataframe tbody tr th:only-of-type {\n",
       "        vertical-align: middle;\n",
       "    }\n",
       "\n",
       "    .dataframe tbody tr th {\n",
       "        vertical-align: top;\n",
       "    }\n",
       "\n",
       "    .dataframe thead th {\n",
       "        text-align: right;\n",
       "    }\n",
       "</style>\n",
       "<table border=\"1\" class=\"dataframe\">\n",
       "  <thead>\n",
       "    <tr style=\"text-align: right;\">\n",
       "      <th></th>\n",
       "      <th>rd-19</th>\n",
       "      <th>rd-20</th>\n",
       "      <th>rd-1</th>\n",
       "      <th>rd-2</th>\n",
       "      <th>rd-7</th>\n",
       "      <th>rd-11</th>\n",
       "      <th>rd-12</th>\n",
       "      <th>rd-13</th>\n",
       "      <th>rd-14</th>\n",
       "      <th>rd-15</th>\n",
       "      <th>rd-16</th>\n",
       "      <th>rd-21</th>\n",
       "    </tr>\n",
       "    <tr>\n",
       "      <th>Datetime</th>\n",
       "      <th></th>\n",
       "      <th></th>\n",
       "      <th></th>\n",
       "      <th></th>\n",
       "      <th></th>\n",
       "      <th></th>\n",
       "      <th></th>\n",
       "      <th></th>\n",
       "      <th></th>\n",
       "      <th></th>\n",
       "      <th></th>\n",
       "      <th></th>\n",
       "    </tr>\n",
       "  </thead>\n",
       "  <tbody>\n",
       "    <tr>\n",
       "      <th>2016-12-28</th>\n",
       "      <td>0.00</td>\n",
       "      <td>0.00</td>\n",
       "      <td>0.00</td>\n",
       "      <td>0.0</td>\n",
       "      <td>0.0</td>\n",
       "      <td>0.0</td>\n",
       "      <td>0.0</td>\n",
       "      <td>0.00</td>\n",
       "      <td>0.00</td>\n",
       "      <td>0.00</td>\n",
       "      <td>0.0</td>\n",
       "      <td>0.00</td>\n",
       "    </tr>\n",
       "    <tr>\n",
       "      <th>2016-12-29</th>\n",
       "      <td>0.19</td>\n",
       "      <td>0.20</td>\n",
       "      <td>0.18</td>\n",
       "      <td>0.0</td>\n",
       "      <td>0.0</td>\n",
       "      <td>0.2</td>\n",
       "      <td>0.0</td>\n",
       "      <td>0.19</td>\n",
       "      <td>0.16</td>\n",
       "      <td>0.26</td>\n",
       "      <td>0.3</td>\n",
       "      <td>0.24</td>\n",
       "    </tr>\n",
       "    <tr>\n",
       "      <th>2016-12-30</th>\n",
       "      <td>0.00</td>\n",
       "      <td>0.00</td>\n",
       "      <td>0.00</td>\n",
       "      <td>0.0</td>\n",
       "      <td>0.0</td>\n",
       "      <td>0.0</td>\n",
       "      <td>0.0</td>\n",
       "      <td>0.00</td>\n",
       "      <td>0.00</td>\n",
       "      <td>0.00</td>\n",
       "      <td>0.0</td>\n",
       "      <td>0.00</td>\n",
       "    </tr>\n",
       "    <tr>\n",
       "      <th>2016-12-31</th>\n",
       "      <td>0.00</td>\n",
       "      <td>0.00</td>\n",
       "      <td>0.00</td>\n",
       "      <td>0.0</td>\n",
       "      <td>0.0</td>\n",
       "      <td>0.0</td>\n",
       "      <td>0.0</td>\n",
       "      <td>0.00</td>\n",
       "      <td>0.00</td>\n",
       "      <td>0.00</td>\n",
       "      <td>0.0</td>\n",
       "      <td>0.00</td>\n",
       "    </tr>\n",
       "    <tr>\n",
       "      <th>2017-01-01</th>\n",
       "      <td>0.02</td>\n",
       "      <td>0.01</td>\n",
       "      <td>NaN</td>\n",
       "      <td>NaN</td>\n",
       "      <td>NaN</td>\n",
       "      <td>NaN</td>\n",
       "      <td>NaN</td>\n",
       "      <td>NaN</td>\n",
       "      <td>NaN</td>\n",
       "      <td>NaN</td>\n",
       "      <td>NaN</td>\n",
       "      <td>NaN</td>\n",
       "    </tr>\n",
       "  </tbody>\n",
       "</table>\n",
       "</div>"
      ],
      "text/plain": [
       "            rd-19  rd-20  rd-1  rd-2  rd-7  rd-11  rd-12  rd-13  rd-14  rd-15  \\\n",
       "Datetime                                                                        \n",
       "2016-12-28   0.00   0.00  0.00   0.0   0.0    0.0    0.0   0.00   0.00   0.00   \n",
       "2016-12-29   0.19   0.20  0.18   0.0   0.0    0.2    0.0   0.19   0.16   0.26   \n",
       "2016-12-30   0.00   0.00  0.00   0.0   0.0    0.0    0.0   0.00   0.00   0.00   \n",
       "2016-12-31   0.00   0.00  0.00   0.0   0.0    0.0    0.0   0.00   0.00   0.00   \n",
       "2017-01-01   0.02   0.01   NaN   NaN   NaN    NaN    NaN    NaN    NaN    NaN   \n",
       "\n",
       "            rd-16  rd-21  \n",
       "Datetime                  \n",
       "2016-12-28    0.0   0.00  \n",
       "2016-12-29    0.3   0.24  \n",
       "2016-12-30    0.0   0.00  \n",
       "2016-12-31    0.0   0.00  \n",
       "2017-01-01    NaN    NaN  "
      ]
     },
     "execution_count": 85,
     "metadata": {},
     "output_type": "execute_result"
    }
   ],
   "source": [
    "rain_daily_comb_named.tail()"
   ]
  },
  {
   "cell_type": "markdown",
   "metadata": {},
   "source": [
    "## Hourly Rainfall"
   ]
  },
  {
   "cell_type": "code",
   "execution_count": 86,
   "metadata": {},
   "outputs": [
    {
     "data": {
      "text/html": [
       "<div>\n",
       "<style scoped>\n",
       "    .dataframe tbody tr th:only-of-type {\n",
       "        vertical-align: middle;\n",
       "    }\n",
       "\n",
       "    .dataframe tbody tr th {\n",
       "        vertical-align: top;\n",
       "    }\n",
       "\n",
       "    .dataframe thead th {\n",
       "        text-align: right;\n",
       "    }\n",
       "</style>\n",
       "<table border=\"1\" class=\"dataframe\">\n",
       "  <thead>\n",
       "    <tr style=\"text-align: right;\">\n",
       "      <th></th>\n",
       "      <th>rhrmx-1</th>\n",
       "      <th>rhrmx-2</th>\n",
       "      <th>rhrmx-7</th>\n",
       "      <th>rhrmx-11</th>\n",
       "      <th>rhrmx-12</th>\n",
       "      <th>rhrmx-13</th>\n",
       "      <th>rhrmx-14</th>\n",
       "      <th>rhrmx-15</th>\n",
       "      <th>rhrmx-16</th>\n",
       "      <th>rhrmx-21</th>\n",
       "    </tr>\n",
       "    <tr>\n",
       "      <th>Datetime</th>\n",
       "      <th></th>\n",
       "      <th></th>\n",
       "      <th></th>\n",
       "      <th></th>\n",
       "      <th></th>\n",
       "      <th></th>\n",
       "      <th></th>\n",
       "      <th></th>\n",
       "      <th></th>\n",
       "      <th></th>\n",
       "    </tr>\n",
       "  </thead>\n",
       "  <tbody>\n",
       "    <tr>\n",
       "      <th>2010-01-01</th>\n",
       "      <td>NaN</td>\n",
       "      <td>NaN</td>\n",
       "      <td>0.04</td>\n",
       "      <td>0.01</td>\n",
       "      <td>0.04</td>\n",
       "      <td>0.01</td>\n",
       "      <td>0.01</td>\n",
       "      <td>0.01</td>\n",
       "      <td>0.01</td>\n",
       "      <td>0.02</td>\n",
       "    </tr>\n",
       "    <tr>\n",
       "      <th>2010-01-02</th>\n",
       "      <td>NaN</td>\n",
       "      <td>NaN</td>\n",
       "      <td>0.00</td>\n",
       "      <td>0.01</td>\n",
       "      <td>0.00</td>\n",
       "      <td>0.00</td>\n",
       "      <td>0.00</td>\n",
       "      <td>0.00</td>\n",
       "      <td>0.00</td>\n",
       "      <td>0.00</td>\n",
       "    </tr>\n",
       "    <tr>\n",
       "      <th>2010-01-03</th>\n",
       "      <td>NaN</td>\n",
       "      <td>NaN</td>\n",
       "      <td>0.00</td>\n",
       "      <td>0.00</td>\n",
       "      <td>0.00</td>\n",
       "      <td>0.02</td>\n",
       "      <td>0.00</td>\n",
       "      <td>0.00</td>\n",
       "      <td>0.00</td>\n",
       "      <td>0.00</td>\n",
       "    </tr>\n",
       "    <tr>\n",
       "      <th>2010-01-04</th>\n",
       "      <td>NaN</td>\n",
       "      <td>NaN</td>\n",
       "      <td>0.10</td>\n",
       "      <td>0.10</td>\n",
       "      <td>0.00</td>\n",
       "      <td>0.11</td>\n",
       "      <td>0.00</td>\n",
       "      <td>0.00</td>\n",
       "      <td>0.00</td>\n",
       "      <td>0.00</td>\n",
       "    </tr>\n",
       "    <tr>\n",
       "      <th>2010-01-05</th>\n",
       "      <td>NaN</td>\n",
       "      <td>NaN</td>\n",
       "      <td>0.00</td>\n",
       "      <td>0.00</td>\n",
       "      <td>0.00</td>\n",
       "      <td>0.00</td>\n",
       "      <td>0.12</td>\n",
       "      <td>0.00</td>\n",
       "      <td>0.00</td>\n",
       "      <td>0.11</td>\n",
       "    </tr>\n",
       "  </tbody>\n",
       "</table>\n",
       "</div>"
      ],
      "text/plain": [
       "            rhrmx-1  rhrmx-2  rhrmx-7  rhrmx-11  rhrmx-12  rhrmx-13  rhrmx-14  \\\n",
       "Datetime                                                                        \n",
       "2010-01-01      NaN      NaN     0.04      0.01      0.04      0.01      0.01   \n",
       "2010-01-02      NaN      NaN     0.00      0.01      0.00      0.00      0.00   \n",
       "2010-01-03      NaN      NaN     0.00      0.00      0.00      0.02      0.00   \n",
       "2010-01-04      NaN      NaN     0.10      0.10      0.00      0.11      0.00   \n",
       "2010-01-05      NaN      NaN     0.00      0.00      0.00      0.00      0.12   \n",
       "\n",
       "            rhrmx-15  rhrmx-16  rhrmx-21  \n",
       "Datetime                                  \n",
       "2010-01-01      0.01      0.01      0.02  \n",
       "2010-01-02      0.00      0.00      0.00  \n",
       "2010-01-03      0.00      0.00      0.00  \n",
       "2010-01-04      0.00      0.00      0.00  \n",
       "2010-01-05      0.00      0.00      0.11  "
      ]
     },
     "execution_count": 86,
     "metadata": {},
     "output_type": "execute_result"
    }
   ],
   "source": [
    "rain15 = pivot_dv_df(rain_df)\n",
    "rain_hourly_totals = rain15.rolling(window='H').sum()\n",
    "rhr_mx = rain_hourly_totals.resample('D').max()\n",
    "rhr_mx = rename_cols(rhr_mx, 'rhrmx')\n",
    "rhr_mx.head()"
   ]
  },
  {
   "cell_type": "code",
   "execution_count": null,
   "metadata": {},
   "outputs": [],
   "source": [
    "rhr_timemx = rain_hourly_totals.groupby(pd.TimeGrouper('D')).idxmax()\n",
    "rhr_timemx = rename_cols(rhr_timemx, 'rhr_mxtime')\n",
    "rhr_timemx = filter_max_rain_time_dfs(rain_daily15, rhr_timemx)\n",
    "rhr_timemx.head()"
   ]
  },
  {
   "cell_type": "markdown",
   "metadata": {},
   "source": [
    "## 15-min max rainfall"
   ]
  },
  {
   "cell_type": "code",
   "execution_count": null,
   "metadata": {},
   "outputs": [],
   "source": [
    "r15_mx = rain15.resample('D').max()\n",
    "r15_mx = rename_cols(r15_mx, 'r15mx')\n",
    "r15_mx.head()"
   ]
  },
  {
   "cell_type": "code",
   "execution_count": null,
   "metadata": {},
   "outputs": [],
   "source": [
    "r15_timemx = rain15.groupby(pd.TimeGrouper('D')).idxmax()\n",
    "r15_timemx = rename_cols(r15_timemx, 'r15_mxtime')\n",
    "r15_timemx = filter_max_rain_time_dfs(rain_daily15, r15_timemx)\n",
    "r15_timemx.head()"
   ]
  },
  {
   "cell_type": "markdown",
   "metadata": {},
   "source": [
    "### Rain prev 3 days"
   ]
  },
  {
   "cell_type": "code",
   "execution_count": null,
   "metadata": {},
   "outputs": [],
   "source": [
    "rain_prev_3_days = rain_daily_comb_no_name.shift(1).rolling(window=3).sum()\n",
    "rain_prev_3_days = rename_cols(rain_prev_3_days, 'r3d')\n",
    "rain_prev_3_days.head()"
   ]
  },
  {
   "cell_type": "code",
   "execution_count": null,
   "metadata": {},
   "outputs": [],
   "source": [
    "rain_daily_comb_named['rd-14'][rain_daily_comb_named['rd-14']<0]"
   ]
  },
  {
   "cell_type": "code",
   "execution_count": null,
   "metadata": {},
   "outputs": [],
   "source": [
    "rain15.loc['2014-06-24']"
   ]
  },
  {
   "cell_type": "code",
   "execution_count": null,
   "metadata": {},
   "outputs": [],
   "source": [
    "rain_prev_3_days.plot.box()"
   ]
  },
  {
   "cell_type": "markdown",
   "metadata": {},
   "source": [
    "#  Groundwater"
   ]
  },
  {
   "cell_type": "code",
   "execution_count": null,
   "metadata": {},
   "outputs": [],
   "source": [
    "gw_df = daily_pivot_table('shallow_well_depth', np.mean, 'gw_av')\n",
    "gw_df.head()"
   ]
  },
  {
   "cell_type": "markdown",
   "metadata": {},
   "source": [
    "#  Tide"
   ]
  },
  {
   "cell_type": "markdown",
   "metadata": {},
   "source": [
    "## Average daily tide"
   ]
  },
  {
   "cell_type": "code",
   "execution_count": null,
   "metadata": {},
   "outputs": [],
   "source": [
    "tide_df = daily_pivot_table('six_min_tide', np.mean, 'td_av')\n",
    "tide_df.head()"
   ]
  },
  {
   "cell_type": "markdown",
   "metadata": {},
   "source": [
    "##  Tide when rain is at max"
   ]
  },
  {
   "cell_type": "code",
   "execution_count": null,
   "metadata": {},
   "outputs": [],
   "source": [
    "td_r15mx = tide_when_rain_max(r15_timemx)\n",
    "td_r15mx.head()"
   ]
  },
  {
   "cell_type": "code",
   "execution_count": null,
   "metadata": {},
   "outputs": [],
   "source": [
    "td_rhrmx = tide_when_rain_max(rhr_timemx)\n",
    "td_rhrmx.head()"
   ]
  },
  {
   "cell_type": "markdown",
   "metadata": {},
   "source": [
    "## HI/LOs"
   ]
  },
  {
   "cell_type": "code",
   "execution_count": null,
   "metadata": {},
   "outputs": [],
   "source": [
    "hilos = []\n",
    "for v in ['high_tide', 'high_high_tide', 'low_tide', 'low_low_tide']:\n",
    "    hilos.append(daily_pivot_table(v, np.mean, \"\".join(w[0] for w in v.split('_'))))"
   ]
  },
  {
   "cell_type": "code",
   "execution_count": null,
   "metadata": {},
   "outputs": [],
   "source": [
    "hilo_df = pd.concat(hilos, axis=1)\n",
    "hilo_df.head()"
   ]
  },
  {
   "cell_type": "markdown",
   "metadata": {},
   "source": [
    "#  Wind"
   ]
  },
  {
   "cell_type": "code",
   "execution_count": null,
   "metadata": {},
   "outputs": [],
   "source": [
    "wind_dfs = []\n",
    "for v in ['WDF2', 'WSF2', 'AWDR', 'AWND', 'WGF6', 'WSF6', 'WDF6', 'WS2min', 'WD2min']:\n",
    "    if v == 'WSF6':\n",
    "        abbr = 'AWND'\n",
    "    elif v == 'WDF6':\n",
    "        abbr = 'AWDR'\n",
    "    elif v == 'WS2min':\n",
    "        abbr = 'AWND'\n",
    "    elif v == 'WD2min':\n",
    "        abbr = 'AWDR'\n",
    "    else:\n",
    "        abbr = v\n",
    "    wind_dfs.append(daily_pivot_table(v, np.mean, abbr))\n",
    "all_wind = pd.concat(wind_dfs, axis=1)\n",
    "all_wind.head()"
   ]
  },
  {
   "cell_type": "code",
   "execution_count": null,
   "metadata": {},
   "outputs": [],
   "source": [
    "feature_df = pd.concat([all_wind, hilo_df, td_r15mx, td_rhrmx, tide_df, gw_df, r15_mx, rhr_mx, rain_daily_comb_named, rain_prev_3_days], axis=1)\n",
    "feature_df = feature_df.loc['2010-09-15':'2016-10-15']\n",
    "feature_df.head()"
   ]
  },
  {
   "cell_type": "markdown",
   "metadata": {},
   "source": [
    "\n",
    "### Save Daily Observations to DB"
   ]
  },
  {
   "cell_type": "code",
   "execution_count": null,
   "metadata": {},
   "outputs": [],
   "source": [
    "# con = sqlite3.connect(db_filename)\n",
    "# feature_df.to_sql(con=con, name=\"nor_daily_observations\", if_exists=\"replace\")\n",
    "feature_df.to_csv('nor_daily_observations_standalone.csv')"
   ]
  },
  {
   "cell_type": "code",
   "execution_count": null,
   "metadata": {},
   "outputs": [],
   "source": []
  },
  {
   "cell_type": "code",
   "execution_count": null,
   "metadata": {},
   "outputs": [],
   "source": []
  }
 ],
 "metadata": {
  "kernelspec": {
   "display_name": "Python 2",
   "language": "python",
   "name": "python2"
  },
  "language_info": {
   "codemirror_mode": {
    "name": "ipython",
    "version": 2
   },
   "file_extension": ".py",
   "mimetype": "text/x-python",
   "name": "python",
   "nbconvert_exporter": "python",
   "pygments_lexer": "ipython2",
   "version": "2.7.14"
  }
 },
 "nbformat": 4,
 "nbformat_minor": 1
}
